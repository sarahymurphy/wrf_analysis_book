{
 "cells": [
  {
   "cell_type": "markdown",
   "metadata": {},
   "source": [
    "# Idealized Sensitivity Study\n",
    "\n",
    "Throughout this document *unmodified* is unsed to describe the runs which used the original values of `LANDUSE.TBL`."
   ]
  },
  {
   "cell_type": "code",
   "execution_count": null,
   "metadata": {
    "tags": [
     "hide-input"
    ]
   },
   "outputs": [],
   "source": [
    "import pandas as pd\n",
    "import numpy as np\n",
    "import xarray as xr\n",
    "from glob import glob\n",
    "import matplotlib.pyplot as plt\n",
    "import numpy as np\n",
    "from datetime import datetime, timedelta\n",
    "import matplotlib.pyplot as plt\n",
    "from matplotlib.cm import get_cmap\n",
    "from matplotlib.dates import DateFormatter\n",
    "from netCDF4 import Dataset\n",
    "from wrf import (getvar, to_np, vertcross, smooth2d, CoordPair,\n",
    "                 get_basemap, latlon_coords, g_geoht, combine_files, ALL_TIMES)\n",
    "\n",
    "# Suppress warnings so the notebook looks nice\n",
    "import warnings\n",
    "warnings.filterwarnings('ignore')\n",
    "\n",
    "# Style for plotting\n",
    "plt.style.use('default')\n",
    "\n",
    "# N-ICE Measurements\n",
    "## NOTE: SEB Measurements are in UTC\n",
    "### Importing SEB dataset\n",
    "Measurements_seb = xr.open_dataset('/Users/smurphy/all_datasets/nice_published_datasets/N-ICE_sebData_v1.nc', decode_times = False)\n",
    "\n",
    "### Longwave radiation into dataframes\n",
    "M_downlw = pd.DataFrame(Measurements_seb.variables['surface_downwelling_longwave_flux'].values, \n",
    "                        index = pd.to_datetime(Measurements_seb.variables['unix_time'].values, unit = 's'), columns = ['lw'])\n",
    "M_uplw = pd.DataFrame(Measurements_seb.variables['surface_upwelling_longwave_flux'].values, \n",
    "                      index = pd.to_datetime(Measurements_seb.variables['unix_time'].values, unit = 's'), columns = ['lw'])\n",
    "\n",
    "### Shortwave radiation into dataframes\n",
    "M_downsw = pd.DataFrame(Measurements_seb.variables['surface_downwelling_shortwave_flux'].values, \n",
    "                        index = pd.to_datetime(Measurements_seb.variables['unix_time'].values, unit = 's'), columns = ['sw'])\n",
    "M_upsw = pd.DataFrame(Measurements_seb.variables['surface_upwelling_shortwave_flux'].values, \n",
    "                      index = pd.to_datetime(Measurements_seb.variables['unix_time'].values, unit = 's'), columns = ['sw'])\n",
    "\n",
    "###  Calculating net radiation\n",
    "M_net = (M_downlw['lw'] - M_uplw['lw']) + (M_downsw['sw'] - M_upsw['sw'])\n",
    "\n",
    "### Sensible and latent heat flux into dataframes\n",
    "M_lat = -pd.DataFrame(Measurements_seb.variables['surface_downward_latent_heat_flux'].values, \n",
    "                      index = pd.to_datetime(Measurements_seb.variables['unix_time'].values, unit = 's'), columns = ['lh'])\n",
    "M_sen = -pd.DataFrame(Measurements_seb.variables['surface_downward_sensible_heat_flux'].values, \n",
    "                      index = pd.to_datetime(Measurements_seb.variables['unix_time'].values, unit = 's'), columns = ['sh'])\n",
    "## NOTE: sensible and latent heat flux negative to match WRF sign convention\n",
    "\n",
    "# Set date format for plots throughout the notebook\n",
    "myFmt = DateFormatter(\"%m/%d \\n %H:%M:%S\")\n"
   ]
  },
  {
   "cell_type": "markdown",
   "metadata": {},
   "source": [
    "# Case 1 - Winter Clear"
   ]
  },
  {
   "cell_type": "code",
   "execution_count": null,
   "metadata": {
    "tags": [
     "hide-input"
    ]
   },
   "outputs": [],
   "source": [
    "# Finding all wrfout file\n",
    "fns = glob('/Volumes/seagate_desktop/idealized/case1/000101/wrfo*')\n",
    "\n",
    "# Creating an empty list to append to\n",
    "wrflist = list()\n",
    "\n",
    "# Opening the wrfout files and appending them to the empty list\n",
    "for fn in fns:\n",
    "    wrflist.append(Dataset(fn))\n",
    "\n",
    "# Defining start and end dates of case study\n",
    "sdate = '2015-02-04'\n",
    "edate = '2015-02-06' \n",
    "\n",
    "# Creating a mask for the above start and end date to be used later\n",
    "sebmask = (M_downlw.index > sdate) & (M_downlw.index < edate)\n",
    "\n",
    "# Importing WRF variables\n",
    "cldfra = getvar(wrflist, \"CLDFRA\", timeidx=ALL_TIMES, method=\"cat\").mean('south_north').mean('west_east')\n",
    "z = getvar(wrflist, \"z\").mean('south_north').mean('west_east')\n",
    "cldfra_df = pd.DataFrame(cldfra.values, index = cldfra.Time.values, columns = z)\n",
    "\n",
    "## lh - latent heat flux\n",
    "lh = getvar(wrflist, \"LH\", timeidx=ALL_TIMES, method=\"cat\").mean('south_north').mean('west_east')\n",
    "lh_df = pd.DataFrame(lh.values, index = lh.Time.values)\n",
    "\n",
    "## sh - sensible heat flux\n",
    "sh = getvar(wrflist, \"HFX\", timeidx=ALL_TIMES, method=\"cat\").mean('south_north').mean('west_east')\n",
    "sh_df = pd.DataFrame(sh.values, index = sh.Time.values)\n",
    "\n",
    "## lwdnb - downwelling longwave radiation\n",
    "lwdnb = getvar(wrflist, \"LWDNB\", timeidx=ALL_TIMES, method=\"cat\").mean('south_north').mean('west_east')\n",
    "lwdnb_df = pd.DataFrame(lwdnb.values, index = lwdnb.Time.values)\n",
    "\n",
    "## lwupb - upwelling longwave radiation\n",
    "lwupb = getvar(wrflist, \"LWUPB\", timeidx=ALL_TIMES, method=\"cat\").mean('south_north').mean('west_east')\n",
    "lwupb_df = pd.DataFrame(lwupb.values, index = lwupb.Time.values)\n",
    "\n",
    "## swdnb - downwelling shortwave radiation\n",
    "swdnb = getvar(wrflist, \"SWDNB\", timeidx=ALL_TIMES, method=\"cat\").mean('south_north').mean('west_east')\n",
    "swdnb_df = pd.DataFrame(swdnb.values, index = swdnb.Time.values)\n",
    "\n",
    "## swupb - upwelling shortwave radiation\n",
    "swupb = getvar(wrflist, \"SWUPB\", timeidx=ALL_TIMES, method=\"cat\").mean('south_north').mean('west_east')\n",
    "swupb_df = pd.DataFrame(swupb.values, index = swupb.Time.values)\n",
    "\n",
    "# MODIFIED\n",
    "\n",
    "# Finding all wrfout file\n",
    "fns = glob('/Volumes/seagate_desktop/idealized/landusetbl_modifications/1ClearWinter_000101/wrfo*')\n",
    "\n",
    "# Creating an empty list to append to\n",
    "wrflist = list()\n",
    "\n",
    "# Opening the wrfout files and appending them to the empty list\n",
    "for fn in fns:\n",
    "    wrflist.append(Dataset(fn))\n",
    "\n",
    "# Importing WRF variables\n",
    "## dbZ - for cloud plotting\n",
    "cldfra_mod = getvar(wrflist, \"CLDFRA\", timeidx=ALL_TIMES, method=\"cat\").mean('south_north').mean('west_east')\n",
    "z_mod = getvar(wrflist, \"z\").mean('south_north').mean('west_east')\n",
    "cldfra_df_mod = pd.DataFrame(cldfra_mod.values, index = cldfra_mod.Time.values, columns = z_mod)\n",
    "\n",
    "## lh - latent heat flux\n",
    "lh_mod = getvar(wrflist, \"LH\", timeidx=ALL_TIMES, method=\"cat\").mean('south_north').mean('west_east')\n",
    "lh_df_mod = pd.DataFrame(lh_mod.values, index = lh_mod.Time.values)\n",
    "\n",
    "## sh - sensible heat flux\n",
    "sh_mod = getvar(wrflist, \"HFX\", timeidx=ALL_TIMES, method=\"cat\").mean('south_north').mean('west_east')\n",
    "sh_df_mod = pd.DataFrame(sh_mod.values, index = sh_mod.Time.values)\n",
    "\n",
    "## lwdnb - downwelling longwave radiation\n",
    "lwdnb_mod = getvar(wrflist, \"LWDNB\", timeidx=ALL_TIMES, method=\"cat\").mean('south_north').mean('west_east')\n",
    "lwdnb_df_mod = pd.DataFrame(lwdnb_mod.values, index = lwdnb_mod.Time.values)\n",
    "\n",
    "## lwupb - upwelling longwave radiation\n",
    "lwupb_mod = getvar(wrflist, \"LWUPB\", timeidx=ALL_TIMES, method=\"cat\").mean('south_north').mean('west_east')\n",
    "lwupb_df_mod = pd.DataFrame(lwupb_mod.values, index = lwupb_mod.Time.values)\n",
    "\n",
    "## swdnb - downwelling shortwave radiation\n",
    "swdnb_mod = getvar(wrflist, \"SWDNB\", timeidx=ALL_TIMES, method=\"cat\").mean('south_north').mean('west_east')\n",
    "swdnb_df_mod = pd.DataFrame(swdnb_mod.values, index = swdnb_mod.Time.values)\n",
    "\n",
    "## swupb - upwelling shortwave radiation\n",
    "swupb_mod = getvar(wrflist, \"SWUPB\", timeidx=ALL_TIMES, method=\"cat\").mean('south_north').mean('west_east')\n",
    "swupb_df_mod = pd.DataFrame(swupb_mod.values, index = swupb_mod.Time.values)"
   ]
  },
  {
   "cell_type": "markdown",
   "metadata": {},
   "source": [
    "## Clouds"
   ]
  },
  {
   "cell_type": "code",
   "execution_count": null,
   "metadata": {
    "tags": [
     "hide-input"
    ]
   },
   "outputs": [],
   "source": [
    "fig, axs = plt.subplots(2, figsize=(10,7))\n",
    "\n",
    "heatmap = axs[0].contourf(cldfra_df.index, cldfra_df.columns, cldfra_df.T.values, [-1, 0, 1])\n",
    "axs[0].set_ylabel('Height (m)')\n",
    "axs[0].set_title('Cloud Fraction (WRF)\\nUnmodified')\n",
    "axs[0].xaxis.set_major_formatter(myFmt)\n",
    "\n",
    "\n",
    "heatmap = axs[1].contourf(cldfra_df_mod.index, cldfra_df_mod.columns, cldfra_df_mod.T.values, [-1, 0, 1])\n",
    "axs[1].set_ylabel('Height (m)')\n",
    "axs[1].set_title('Modified')\n",
    "axs[1].xaxis.set_major_formatter(myFmt)\n",
    "\n",
    "plt.tight_layout()\n",
    "fig.subplots_adjust(right=0.8)\n",
    "cbar_ax = fig.add_axes([0.85, 0.15, 0.015, 0.7])\n",
    "cbar = fig.colorbar(heatmap,ticks = [-0.5, 0.5], orientation = 'vertical', cax=cbar_ax)\n",
    "cbar.ax.set_yticklabels(['No Cloud', 'Cloud'], rotation = 90)\n",
    "cbar.ax.tick_params(size=0)\n",
    "\n",
    "\n",
    "plt.show()\n"
   ]
  },
  {
   "cell_type": "code",
   "execution_count": null,
   "metadata": {
    "tags": [
     "hide-input"
    ]
   },
   "outputs": [],
   "source": [
    "fns = ['/Volumes/seagate_desktop/data/MPL/Robert_MPLData/FinalNICELidarData/NICE_MPLDataFinal20150204.cdf',\n",
    "       '/Volumes/seagate_desktop/data/MPL/Robert_MPLData/FinalNICELidarData/NICE_MPLDataFinal20150205.cdf',\n",
    "       '/Volumes/seagate_desktop/data/MPL/Robert_MPLData/FinalNICELidarData/NICE_MPLDataFinal20150206.cdf']\n",
    "\n",
    "measured_cloudmask_all = pd.DataFrame()\n",
    "\n",
    "for fn in fns:\n",
    "    rbt_cldmask = xr.open_dataset(fn)\n",
    "    # Time is in UTC time stamp in fractional hours\n",
    "    Time = rbt_cldmask.variables['DataTime'].values\n",
    "    # Fix time to be a timestamp - Currently in hours\n",
    "    yy = 2015\n",
    "    mm = int(fn[-8:-6])\n",
    "    dd = int(fn[-6:-4])\n",
    "    date = [datetime(yy,mm,dd) + timedelta(seconds=hr*3600) for hr in Time[~np.isnan(Time)]]\n",
    "    measured_cloudmask = pd.DataFrame(rbt_cldmask['PhaseMask'][~np.isnan(Time)].values, index = date, columns = rbt_cldmask['Range'])\n",
    "    measured_cloudmask_all = pd.concat([measured_cloudmask_all, measured_cloudmask])\n",
    "\n",
    "fig, ax = plt.subplots(figsize=(10,4))\n",
    "\n",
    "plt.grid()\n",
    "heatmap = plt.contourf(measured_cloudmask_all.index,\n",
    "                       measured_cloudmask_all.columns, \n",
    "                       measured_cloudmask_all.T.values, \n",
    "                       [0, 1, 2])\n",
    "# nan - no information\n",
    "# 1 - cloud liquid\n",
    "# 2 - cloud ice\n",
    "\n",
    "plt.title('Cloud Mask\\nMeasured by MPL')\n",
    "plt.ylabel('Height (m)')\n",
    "cbar = fig.colorbar(heatmap, label = 'Phase', ticks = [0.5, 1.5], orientation = 'vertical')\n",
    "cbar.ax.set_yticklabels(['Ice', 'Water'], rotation = 90)\n",
    "cbar.ax.tick_params(size=0)\n",
    "plt.gca().xaxis.set_major_formatter(myFmt)\n",
    "plt.ylim(0, max(cldfra_df_mod.columns))\n",
    "plt.tight_layout()\n",
    "plt.show()"
   ]
  },
  {
   "cell_type": "markdown",
   "metadata": {},
   "source": [
    "## Sensible and Latent Heat Flux"
   ]
  },
  {
   "cell_type": "code",
   "execution_count": null,
   "metadata": {
    "tags": [
     "hide-input"
    ]
   },
   "outputs": [],
   "source": [
    "plt.figure(figsize = (10,7))\n",
    "plt.subplot(211)\n",
    "plt.plot(sh_df, 'o', alpha = 0.75)\n",
    "plt.plot(sh_df_mod, 'o', alpha = 0.75)\n",
    "plt.plot(M_sen[sdate:edate], 'o', alpha = 0.75, color = 'k')\n",
    "plt.hlines(0, xmin = sdate, xmax = '2015-05-05', linestyle = '--', color = 'k')\n",
    "plt.ylabel('Flux $(W/m^{2})$')\n",
    "plt.title('Sensible Heat Flux')\n",
    "plt.grid()\n",
    "plt.legend(['Idealized WRF, Unmodified', 'Idealized WRF, Modified', 'Measurements'])\n",
    "plt.ylim(-50,175)\n",
    "plt.xlim(sdate,'2015-02-05')\n",
    "plt.gca().xaxis.set_major_formatter(myFmt)\n",
    "\n",
    "plt.subplot(212)\n",
    "plt.plot(lh_df, 'o', alpha = 0.75)\n",
    "plt.plot(lh_df_mod, 'o', alpha = 0.75)\n",
    "plt.plot(M_lat[sdate:edate], 'o', alpha = 0.75, color = 'k')\n",
    "plt.hlines(0, xmin = sdate, xmax = '2015-02-05', linestyle = '--', color = 'k')\n",
    "plt.ylabel('Flux $(W/m^{2})$')\n",
    "plt.title('Latent Heat Flux')\n",
    "plt.grid()\n",
    "plt.ylim(-20,30)\n",
    "plt.legend(['Idealized WRF, Unmodified', 'Idealized WRF, Modified', 'Measurements'])\n",
    "plt.xlim(sdate,'2015-02-05')\n",
    "plt.tight_layout()\n",
    "plt.gca().xaxis.set_major_formatter(myFmt)\n",
    "plt.show()"
   ]
  },
  {
   "cell_type": "markdown",
   "metadata": {},
   "source": [
    "## Longwave Radiation"
   ]
  },
  {
   "cell_type": "code",
   "execution_count": null,
   "metadata": {
    "tags": [
     "hide-input"
    ]
   },
   "outputs": [],
   "source": [
    "plt.figure(figsize = (10,7))\n",
    "plt.subplot(211)\n",
    "plt.plot(lwdnb_df, 'o', alpha = 0.75)\n",
    "plt.plot(lwdnb_df_mod, 'o', alpha = 0.75)\n",
    "plt.plot(M_downlw[sdate:edate], 'o', alpha = 0.75, color = 'k')\n",
    "plt.ylabel('Flux $(W/m^{2})$')\n",
    "plt.title('Downwelling Longwave Radiation')\n",
    "plt.grid()\n",
    "plt.legend(['Idealized WRF, Unmodified', 'Idealized WRF, Modified', 'Measurements'])\n",
    "plt.ylim(250,320)\n",
    "plt.xlim(sdate,'2015-02-05')\n",
    "plt.gca().xaxis.set_major_formatter(myFmt)\n",
    "\n",
    "plt.subplot(212)\n",
    "plt.plot(lwupb_df, 'o', alpha = 0.75)\n",
    "plt.plot(lwupb_df_mod, 'o', alpha = 0.75)\n",
    "plt.plot(M_uplw[sdate:edate], 'o', alpha = 0.75, color = 'k')\n",
    "plt.ylabel('Flux $(W/m^{2})$')\n",
    "plt.title('Upwelling Longwave Radiation')\n",
    "plt.grid()\n",
    "plt.ylim(250, 320)\n",
    "plt.legend(['Idealized WRF, Unmodified', 'Idealized WRF, Modified', 'Measurements'])\n",
    "plt.xlim(sdate,'2015-02-05')\n",
    "plt.gca().xaxis.set_major_formatter(myFmt)\n",
    "plt.tight_layout()\n",
    "plt.show()"
   ]
  },
  {
   "cell_type": "markdown",
   "metadata": {},
   "source": [
    "## Summary Table\n",
    "Red highlighting indicates the lowest correlation of that variable, green indicates the highest."
   ]
  },
  {
   "cell_type": "code",
   "execution_count": null,
   "metadata": {
    "tags": [
     "hide-input"
    ]
   },
   "outputs": [],
   "source": [
    "lwdns = M_downlw[sdate:edate]\n",
    "lwdns.columns = ['measured']\n",
    "lwdns['unmodified'] = lwdnb_df[0]\n",
    "lwdns['modified'] = lwdnb_df_mod[0]\n",
    "\n",
    "lwups = M_uplw[sdate:edate]\n",
    "lwups.columns = ['measured']\n",
    "lwups['unmodified'] = lwupb_df[0]\n",
    "lwups['modified'] = lwupb_df_mod[0]\n",
    "\n",
    "swdns = M_downsw[sdate:edate]\n",
    "swdns.columns = ['measured']\n",
    "swdns['unmodified'] = swdnb_df[0]\n",
    "swdns['modified'] = swdnb_df_mod[0]\n",
    "\n",
    "swups = M_upsw[sdate:edate]\n",
    "swups.columns = ['measured']\n",
    "swups['unmodified'] = swupb_df[0]\n",
    "swups['modified'] = swupb_df_mod[0]\n",
    "\n",
    "lhs = M_lat[sdate:edate]\n",
    "lhs.columns = ['measured']\n",
    "lhs['unmodified'] = lh_df[0]\n",
    "lhs['modified'] = lh_df_mod[0]\n",
    "\n",
    "shs = M_sen[sdate:edate]\n",
    "shs.columns = ['measured']\n",
    "shs['unmodified'] = sh_df[0]\n",
    "shs['modified'] = sh_df_mod[0]"
   ]
  },
  {
   "cell_type": "code",
   "execution_count": null,
   "metadata": {
    "tags": [
     "hide-input"
    ]
   },
   "outputs": [],
   "source": [
    "correlation_coefficients = pd.DataFrame([lhs.corr()['measured'].values, \n",
    "                                         shs.corr()['measured'].values,\n",
    "                                         lwdns.corr()['measured'].values,\n",
    "                                         lwups.corr()['measured'].values], \n",
    "                                         columns = lhs.corr().columns,\n",
    "                                         index = ['Latent', 'Sensible', 'Downwelling Longwave', 'Upwelling Longwave']).T\n",
    "r_squared = correlation_coefficients ** 2\n",
    "r_squared[1:].style.highlight_max(color = 'lightgreen', axis = 0).highlight_min(color = 'pink', axis = 0)"
   ]
  },
  {
   "cell_type": "markdown",
   "metadata": {},
   "source": [
    "# Case 2 - Spring Cloudy"
   ]
  },
  {
   "cell_type": "code",
   "execution_count": null,
   "metadata": {
    "tags": [
     "hide-input"
    ]
   },
   "outputs": [],
   "source": [
    "fns = glob('/Volumes/seagate_desktop/idealized/case4/000101/wrfo*')\n",
    "wrflist = list()\n",
    "for fn in fns:\n",
    "    wrflist.append(Dataset(fn))\n",
    "    \n",
    "sdate = '2015-05-02'\n",
    "edate = '2015-05-04' \n",
    "\n",
    "sebmask = (M_downlw.index > sdate) & (M_downlw.index < edate)\n",
    "\n",
    "cldfra = getvar(wrflist, \"CLDFRA\", timeidx=ALL_TIMES, method=\"cat\").mean('south_north').mean('west_east')\n",
    "z = getvar(wrflist, \"z\").mean('south_north').mean('west_east')\n",
    "cldfra_df = pd.DataFrame(cldfra.values, index = cldfra.Time.values, columns = z)\n",
    "\n",
    "lh = getvar(wrflist, \"LH\", timeidx=ALL_TIMES, method=\"cat\").mean('south_north').mean('west_east')\n",
    "lh_df = pd.DataFrame(lh.values, index = lh.Time.values)\n",
    "\n",
    "sh = getvar(wrflist, \"HFX\", timeidx=ALL_TIMES, method=\"cat\").mean('south_north').mean('west_east')\n",
    "sh_df = pd.DataFrame(sh.values, index = sh.Time.values)\n",
    "\n",
    "lwdnb = getvar(wrflist, \"LWDNB\", timeidx=ALL_TIMES, method=\"cat\").mean('south_north').mean('west_east')\n",
    "lwdnb_df = pd.DataFrame(lwdnb.values, index = lwdnb.Time.values)\n",
    "\n",
    "lwupb = getvar(wrflist, \"LWUPB\", timeidx=ALL_TIMES, method=\"cat\").mean('south_north').mean('west_east')\n",
    "lwupb_df = pd.DataFrame(lwupb.values, index = lwupb.Time.values)\n",
    "\n",
    "swdnb = getvar(wrflist, \"SWDNB\", timeidx=ALL_TIMES, method=\"cat\").mean('south_north').mean('west_east')\n",
    "swdnb_df = pd.DataFrame(swdnb.values, index = swdnb.Time.values)\n",
    "\n",
    "swupb = getvar(wrflist, \"SWUPB\", timeidx=ALL_TIMES, method=\"cat\").mean('south_north').mean('west_east')\n",
    "swupb_df = pd.DataFrame(swupb.values, index = swupb.Time.values)\n",
    "\n",
    "# Finding all wrfout file\n",
    "fns = glob('/Volumes/seagate_desktop/idealized/landusetbl_modifications/2CloudySpring_000101/wrfo*')\n",
    "\n",
    "# Creating an empty list to append to\n",
    "wrflist = list()\n",
    "\n",
    "# Opening the wrfout files and appending them to the empty list\n",
    "for fn in fns:\n",
    "    wrflist.append(Dataset(fn))\n",
    "\n",
    "cldfra_mod = getvar(wrflist, \"CLDFRA\", timeidx=ALL_TIMES, method=\"cat\").mean('south_north').mean('west_east')\n",
    "z_mod = getvar(wrflist, \"z\").mean('south_north').mean('west_east')\n",
    "cldfra_df_mod = pd.DataFrame(cldfra_mod.values, index = cldfra_mod.Time.values, columns = z_mod)\n",
    "\n",
    "## lh - latent heat flux\n",
    "lh_mod = getvar(wrflist, \"LH\", timeidx=ALL_TIMES, method=\"cat\").mean('south_north').mean('west_east')\n",
    "lh_df_mod = pd.DataFrame(lh_mod.values, index = lh_mod.Time.values)\n",
    "\n",
    "## sh - sensible heat flux\n",
    "sh_mod = getvar(wrflist, \"HFX\", timeidx=ALL_TIMES, method=\"cat\").mean('south_north').mean('west_east')\n",
    "sh_df_mod = pd.DataFrame(sh_mod.values, index = sh_mod.Time.values)\n",
    "\n",
    "## lwdnb - downwelling longwave radiation\n",
    "lwdnb_mod = getvar(wrflist, \"LWDNB\", timeidx=ALL_TIMES, method=\"cat\").mean('south_north').mean('west_east')\n",
    "lwdnb_df_mod = pd.DataFrame(lwdnb_mod.values, index = lwdnb_mod.Time.values)\n",
    "\n",
    "## lwupb - upwelling longwave radiation\n",
    "lwupb_mod = getvar(wrflist, \"LWUPB\", timeidx=ALL_TIMES, method=\"cat\").mean('south_north').mean('west_east')\n",
    "lwupb_df_mod = pd.DataFrame(lwupb_mod.values, index = lwupb_mod.Time.values)\n",
    "\n",
    "## swdnb - downwelling shortwave radiation\n",
    "swdnb_mod = getvar(wrflist, \"SWDNB\", timeidx=ALL_TIMES, method=\"cat\").mean('south_north').mean('west_east')\n",
    "swdnb_df_mod = pd.DataFrame(swdnb_mod.values, index = swdnb_mod.Time.values)\n",
    "\n",
    "## swupb - upwelling shortwave radiation\n",
    "swupb_mod = getvar(wrflist, \"SWUPB\", timeidx=ALL_TIMES, method=\"cat\").mean('south_north').mean('west_east')\n",
    "swupb_df_mod = pd.DataFrame(swupb_mod.values, index = swupb_mod.Time.values)"
   ]
  },
  {
   "cell_type": "markdown",
   "metadata": {},
   "source": [
    "## Clouds"
   ]
  },
  {
   "cell_type": "code",
   "execution_count": null,
   "metadata": {
    "tags": [
     "hide-input"
    ]
   },
   "outputs": [],
   "source": [
    "fig, axs = plt.subplots(2, figsize=(10,7))\n",
    "\n",
    "heatmap = axs[0].contourf(cldfra_df.index, cldfra_df.columns, cldfra_df.T.values, [-1, 0, 1])\n",
    "axs[0].set_ylabel('Height (m)')\n",
    "axs[0].set_title('Cloud Fraction (WRF)\\nUnmodified')\n",
    "axs[0].xaxis.set_major_formatter(myFmt)\n",
    "\n",
    "\n",
    "heatmap = axs[1].contourf(cldfra_df_mod.index, cldfra_df_mod.columns, cldfra_df_mod.T.values, [-1, 0, 1])\n",
    "axs[1].set_ylabel('Height (m)')\n",
    "axs[1].set_title('Modified')\n",
    "axs[1].xaxis.set_major_formatter(myFmt)\n",
    "\n",
    "plt.tight_layout()\n",
    "fig.subplots_adjust(right=0.8)\n",
    "cbar_ax = fig.add_axes([0.85, 0.15, 0.015, 0.7])\n",
    "cbar = fig.colorbar(heatmap,ticks = [-0.5, 0.5], orientation = 'vertical', cax=cbar_ax)\n",
    "cbar.ax.set_yticklabels(['No Cloud', 'Cloud'], rotation = 90)\n",
    "cbar.ax.tick_params(size=0)\n",
    "\n",
    "\n",
    "plt.show()\n"
   ]
  },
  {
   "cell_type": "code",
   "execution_count": null,
   "metadata": {
    "tags": [
     "hide-input"
    ]
   },
   "outputs": [],
   "source": [
    "fns = ['/Volumes/seagate_desktop/data/MPL/Robert_MPLData/FinalNICELidarData/NICE_MPLDataFinal20150502.cdf',\n",
    "       '/Volumes/seagate_desktop/data/MPL/Robert_MPLData/FinalNICELidarData/NICE_MPLDataFinal20150503.cdf',\n",
    "       '/Volumes/seagate_desktop/data/MPL/Robert_MPLData/FinalNICELidarData/NICE_MPLDataFinal20150504.cdf']\n",
    "\n",
    "measured_cloudmask_all = pd.DataFrame()\n",
    "\n",
    "for fn in fns:\n",
    "    rbt_cldmask = xr.open_dataset(fn)\n",
    "    # Time is in UTC time stamp in fractional hours\n",
    "    Time = rbt_cldmask.variables['DataTime'].values\n",
    "    # Fix time to be a timestamp - Currently in hours\n",
    "    yy = 2015\n",
    "    mm = int(fn[-8:-6])\n",
    "    dd = int(fn[-6:-4])\n",
    "    date = [datetime(yy,mm,dd) + timedelta(seconds=hr*3600) for hr in Time[~np.isnan(Time)]]\n",
    "    measured_cloudmask = pd.DataFrame(rbt_cldmask['PhaseMask'][~np.isnan(Time)].values, index = date, columns = rbt_cldmask['Range'])\n",
    "    measured_cloudmask_all = pd.concat([measured_cloudmask_all, measured_cloudmask])\n",
    "\n",
    "fig, ax = plt.subplots(figsize=(10,4))\n",
    "\n",
    "plt.grid()\n",
    "heatmap = plt.contourf(measured_cloudmask_all.index,\n",
    "                       measured_cloudmask_all.columns, \n",
    "                       measured_cloudmask_all.T.values, \n",
    "                       [0, 1, 2])\n",
    "# nan - no information\n",
    "# 1 - cloud liquid\n",
    "# 2 - cloud ice\n",
    "\n",
    "plt.title('Cloud Mask\\nMeasured by MPL')\n",
    "plt.ylabel('Height (m)')\n",
    "cbar = fig.colorbar(heatmap, label = 'Phase', ticks = [0.5, 1.5], orientation = 'vertical')\n",
    "cbar.ax.set_yticklabels(['Ice', 'Water'], rotation = 90)\n",
    "cbar.ax.tick_params(size=0)\n",
    "plt.gca().xaxis.set_major_formatter(myFmt)\n",
    "plt.ylim(0, max(cldfra_df_mod.columns))\n",
    "plt.tight_layout()\n",
    "plt.show()"
   ]
  },
  {
   "cell_type": "markdown",
   "metadata": {},
   "source": [
    "## Sensible and Latent Heat Flux"
   ]
  },
  {
   "cell_type": "code",
   "execution_count": null,
   "metadata": {
    "tags": [
     "hide-input"
    ]
   },
   "outputs": [],
   "source": [
    "plt.figure(figsize = (10,7))\n",
    "plt.subplot(211)\n",
    "plt.plot(sh_df, 'o', alpha = 0.75)\n",
    "plt.plot(sh_df_mod, 'o', alpha = 0.75)\n",
    "plt.plot(M_sen[sdate:edate], 'o', alpha = 0.75, color = 'k')\n",
    "plt.hlines(0, xmin = sdate, xmax = '2015-05-05', linestyle = '--', color = 'k')\n",
    "plt.ylabel('Flux $(W/m^{2})$')\n",
    "plt.title('Sensible Heat Flux')\n",
    "plt.grid()\n",
    "plt.legend(['Idealized WRF, Unmodified', 'Idealized WRF, Modified', 'Measurements'])\n",
    "plt.ylim(-10,20)\n",
    "plt.xlim(sdate,'2015-05-05')\n",
    "plt.gca().xaxis.set_major_formatter(myFmt)\n",
    "\n",
    "plt.subplot(212)\n",
    "plt.plot(lh_df, 'o', alpha = 0.75)\n",
    "plt.plot(lh_df_mod, 'o', alpha = 0.75)\n",
    "plt.plot(M_lat[sdate:edate], 'o', alpha = 0.75, color = 'k')\n",
    "plt.hlines(0, xmin = sdate, xmax = '2015-05-05', linestyle = '--', color = 'k')\n",
    "plt.ylabel('Flux $(W/m^{2})$')\n",
    "plt.title('Latent Heat Flux')\n",
    "plt.grid()\n",
    "plt.legend(['Idealized WRF, Unmodified', 'Idealized WRF, Modified', 'Measurements'])\n",
    "plt.xlim(sdate,'2015-05-05')\n",
    "plt.tight_layout()\n",
    "plt.gca().xaxis.set_major_formatter(myFmt)\n",
    "plt.show()"
   ]
  },
  {
   "cell_type": "markdown",
   "metadata": {},
   "source": [
    "## Longwave and Shortwave Radiation"
   ]
  },
  {
   "cell_type": "code",
   "execution_count": null,
   "metadata": {
    "tags": [
     "hide-input"
    ]
   },
   "outputs": [],
   "source": [
    "plt.figure(figsize = (15,7))\n",
    "plt.subplot(221)\n",
    "plt.plot(lwdnb_df, 'o', alpha = 0.75)\n",
    "plt.plot(lwdnb_df_mod, 'o', alpha = 0.75)\n",
    "plt.plot(M_downlw[sdate:edate], 'o', alpha = 0.75, color = 'k')\n",
    "plt.ylabel('Flux $(W/m^{2})$')\n",
    "plt.title('Downwelling Longwave Radiation')\n",
    "plt.grid()\n",
    "plt.legend(['Idealized WRF, Unmodified', 'Idealized WRF, Modified', 'Measurements'])\n",
    "plt.ylim(180,300)\n",
    "plt.xlim(sdate,'2015-05-05')\n",
    "plt.gca().xaxis.set_major_formatter(myFmt)\n",
    "\n",
    "plt.subplot(223)\n",
    "plt.plot(lwupb_df, 'o', alpha = 0.75)\n",
    "plt.plot(lwupb_df_mod, 'o', alpha = 0.75)\n",
    "plt.plot(M_uplw[sdate:edate], 'o', alpha = 0.75, color = 'k')\n",
    "plt.ylabel('Flux $(W/m^{2})$')\n",
    "plt.title('Upwelling Longwave Radiation')\n",
    "plt.grid()\n",
    "plt.ylim(180, 300)\n",
    "plt.legend(['Idealized WRF, Unmodified', 'Idealized WRF, Modified', 'Measurements'])\n",
    "plt.xlim(sdate,'2015-05-05')\n",
    "plt.gca().xaxis.set_major_formatter(myFmt)\n",
    "\n",
    "plt.subplot(222)\n",
    "plt.plot(swdnb_df, 'o', alpha = 0.75)\n",
    "plt.plot(swdnb_df_mod, 'o', alpha = 0.75)\n",
    "plt.plot(M_downsw[sdate:edate], 'o', alpha = 0.75, color = 'k')\n",
    "plt.ylabel('Flux $(W/m^{2})$')\n",
    "plt.title('Downwelling Shortwave Radiation')\n",
    "plt.grid()\n",
    "plt.legend(['Idealized WRF, Unmodified', 'Idealized WRF, Modified', 'Measurements'])\n",
    "#plt.ylim(180,300)\n",
    "plt.xlim(sdate,'2015-05-05')\n",
    "plt.gca().xaxis.set_major_formatter(myFmt)\n",
    "\n",
    "plt.subplot(224)\n",
    "plt.plot(swupb_df, 'o', alpha = 0.75)\n",
    "plt.plot(swupb_df_mod, 'o', alpha = 0.75)\n",
    "plt.plot(M_upsw[sdate:edate], 'o', alpha = 0.75, color = 'k')\n",
    "plt.ylabel('Flux $(W/m^{2})$')\n",
    "plt.title('Upwelling Shortwave Radiation')\n",
    "plt.grid()\n",
    "#plt.ylim(180, 300)\n",
    "plt.legend(['Idealized WRF, Unmodified', 'Idealized WRF, Modified', 'Measurements'])\n",
    "plt.xlim(sdate,'2015-05-05')\n",
    "plt.gca().xaxis.set_major_formatter(myFmt)\n",
    "plt.tight_layout()\n",
    "plt.show()"
   ]
  },
  {
   "cell_type": "markdown",
   "metadata": {},
   "source": [
    "## Summary Table\n",
    "\n",
    "Red highlighting indicates the lowest correlation of that variable, green indicates the highest."
   ]
  },
  {
   "cell_type": "code",
   "execution_count": null,
   "metadata": {
    "tags": [
     "hide-input"
    ]
   },
   "outputs": [],
   "source": [
    "lwdns = M_downlw[sdate:edate]\n",
    "lwdns.columns = ['measured']\n",
    "lwdns['unmodified'] = lwdnb_df[0]\n",
    "lwdns['modified'] = lwdnb_df_mod[0]\n",
    "\n",
    "lwups = M_uplw[sdate:edate]\n",
    "lwups.columns = ['measured']\n",
    "lwups['unmodified'] = lwupb_df[0]\n",
    "lwups['modified'] = lwupb_df_mod[0]\n",
    "\n",
    "swdns = M_downsw[sdate:edate]\n",
    "swdns.columns = ['measured']\n",
    "swdns['unmodified'] = swdnb_df[0]\n",
    "swdns['modified'] = swdnb_df_mod[0]\n",
    "\n",
    "swups = M_upsw[sdate:edate]\n",
    "swups.columns = ['measured']\n",
    "swups['unmodified'] = swupb_df[0]\n",
    "swups['modified'] = swupb_df_mod[0]\n",
    "\n",
    "lhs = M_lat[sdate:edate]\n",
    "lhs.columns = ['measured']\n",
    "lhs['unmodified'] = lh_df[0]\n",
    "lhs['modified'] = lh_df_mod[0]\n",
    "\n",
    "shs = M_sen[sdate:edate]\n",
    "shs.columns = ['measured']\n",
    "shs['unmodified'] = sh_df[0]\n",
    "shs['modified'] = sh_df_mod[0]"
   ]
  },
  {
   "cell_type": "code",
   "execution_count": null,
   "metadata": {
    "tags": [
     "hide-input"
    ]
   },
   "outputs": [],
   "source": [
    "correlation_coefficients = pd.DataFrame([lhs.corr()['measured'].values, \n",
    "                                         shs.corr()['measured'].values,\n",
    "                                         lwdns.corr()['measured'].values,\n",
    "                                         lwups.corr()['measured'].values,\n",
    "                                         swdns.corr()['measured'].values,\n",
    "                                         swups.corr()['measured'].values], \n",
    "                                         columns = lhs.corr().columns,\n",
    "                                         index = ['Latent', 'Sensible', 'Downwelling Longwave', 'Upwelling Longwave', 'Downwelling Shortwave', 'Upwelling Shortwave']).T\n",
    "r_squared = correlation_coefficients ** 2\n",
    "r_squared[1:].style.highlight_max(color = 'lightgreen', axis = 0).highlight_min(color = 'pink', axis = 0)"
   ]
  },
  {
   "cell_type": "markdown",
   "metadata": {},
   "source": [
    "# Case 3 - Spring Clear"
   ]
  },
  {
   "cell_type": "code",
   "execution_count": null,
   "metadata": {
    "tags": [
     "hide-input"
    ]
   },
   "outputs": [],
   "source": [
    "sdate = '2015-05-22'\n",
    "edate = '2015-05-25' \n",
    "\n",
    "M_net = (M_downlw['lw'] - M_uplw['lw'])\n",
    "sebmask = (M_downlw.index > sdate) & (M_downlw.index < edate)\n",
    "\n",
    "fns = glob('/Volumes/seagate_desktop/idealized/case3/000101/wrfo*')\n",
    "wrflist = list()\n",
    "for fn in fns:\n",
    "    wrflist.append(Dataset(fn))\n",
    "    \n",
    "cldfra = getvar(wrflist, \"CLDFRA\", timeidx=ALL_TIMES, method=\"cat\").mean('south_north').mean('west_east')\n",
    "z = getvar(wrflist, \"z\").mean('south_north').mean('west_east')\n",
    "cldfra_df = pd.DataFrame(cldfra.values, index = cldfra.Time.values, columns = z)\n",
    "\n",
    "lh = getvar(wrflist, \"LH\", timeidx=ALL_TIMES, method=\"cat\").mean('south_north').mean('west_east')\n",
    "lh_df = pd.DataFrame(lh.values, index = lh.Time.values)\n",
    "\n",
    "sh = getvar(wrflist, \"HFX\", timeidx=ALL_TIMES, method=\"cat\").mean('south_north').mean('west_east')\n",
    "sh_df = pd.DataFrame(sh.values, index = sh.Time.values)\n",
    "\n",
    "lwdnb = getvar(wrflist, \"LWDNB\", timeidx=ALL_TIMES, method=\"cat\").mean('south_north').mean('west_east')\n",
    "lwdnb_df = pd.DataFrame(lwdnb.values, index = lwdnb.Time.values)\n",
    "\n",
    "lwupb = getvar(wrflist, \"LWUPB\", timeidx=ALL_TIMES, method=\"cat\").mean('south_north').mean('west_east')\n",
    "lwupb_df = pd.DataFrame(lwupb.values, index = lwupb.Time.values)\n",
    "\n",
    "swdnb = getvar(wrflist, \"SWDNB\", timeidx=ALL_TIMES, method=\"cat\").mean('south_north').mean('west_east')\n",
    "swdnb_df = pd.DataFrame(swdnb.values, index = swdnb.Time.values)\n",
    "\n",
    "swupb = getvar(wrflist, \"SWUPB\", timeidx=ALL_TIMES, method=\"cat\").mean('south_north').mean('west_east')\n",
    "swupb_df = pd.DataFrame(swupb.values, index = swupb.Time.values)\n",
    "\n",
    "# MODIFIED\n",
    "\n",
    "# Finding all wrfout file\n",
    "fns = glob('/Volumes/seagate_desktop/idealized/landusetbl_modifications/3ClearSpring_000101/wrfo*')\n",
    "\n",
    "# Creating an empty list to append to\n",
    "wrflist = list()\n",
    "\n",
    "# Opening the wrfout files and appending them to the empty list\n",
    "for fn in fns:\n",
    "    wrflist.append(Dataset(fn))\n",
    "\n",
    "# Importing WRF variables\n",
    "## dbZ - for cloud plotting\n",
    "cldfra_mod = getvar(wrflist, \"CLDFRA\", timeidx=ALL_TIMES, method=\"cat\").mean('south_north').mean('west_east')\n",
    "z_mod = getvar(wrflist, \"z\").mean('south_north').mean('west_east')\n",
    "cldfra_df_mod = pd.DataFrame(cldfra_mod.values, index = cldfra_mod.Time.values, columns = z_mod)\n",
    "\n",
    "## lh - latent heat flux\n",
    "lh_mod = getvar(wrflist, \"LH\", timeidx=ALL_TIMES, method=\"cat\").mean('south_north').mean('west_east')\n",
    "lh_df_mod = pd.DataFrame(lh_mod.values, index = lh_mod.Time.values)\n",
    "\n",
    "## sh - sensible heat flux\n",
    "sh_mod = getvar(wrflist, \"HFX\", timeidx=ALL_TIMES, method=\"cat\").mean('south_north').mean('west_east')\n",
    "sh_df_mod = pd.DataFrame(sh_mod.values, index = sh_mod.Time.values)\n",
    "\n",
    "## lwdnb - downwelling longwave radiation\n",
    "lwdnb_mod = getvar(wrflist, \"LWDNB\", timeidx=ALL_TIMES, method=\"cat\").mean('south_north').mean('west_east')\n",
    "lwdnb_df_mod = pd.DataFrame(lwdnb_mod.values, index = lwdnb_mod.Time.values)\n",
    "\n",
    "## lwupb - upwelling longwave radiation\n",
    "lwupb_mod = getvar(wrflist, \"LWUPB\", timeidx=ALL_TIMES, method=\"cat\").mean('south_north').mean('west_east')\n",
    "lwupb_df_mod = pd.DataFrame(lwupb_mod.values, index = lwupb_mod.Time.values)\n",
    "\n",
    "## swdnb - downwelling shortwave radiation\n",
    "swdnb_mod = getvar(wrflist, \"SWDNB\", timeidx=ALL_TIMES, method=\"cat\").mean('south_north').mean('west_east')\n",
    "swdnb_df_mod = pd.DataFrame(swdnb_mod.values, index = swdnb_mod.Time.values)\n",
    "\n",
    "## swupb - upwelling shortwave radiation\n",
    "swupb_mod = getvar(wrflist, \"SWUPB\", timeidx=ALL_TIMES, method=\"cat\").mean('south_north').mean('west_east')\n",
    "swupb_df_mod = pd.DataFrame(swupb_mod.values, index = swupb_mod.Time.values)"
   ]
  },
  {
   "cell_type": "markdown",
   "metadata": {},
   "source": [
    "## Clouds"
   ]
  },
  {
   "cell_type": "code",
   "execution_count": null,
   "metadata": {
    "tags": [
     "hide-input"
    ]
   },
   "outputs": [],
   "source": [
    "fig, axs = plt.subplots(2, figsize=(10,7))\n",
    "\n",
    "heatmap = axs[0].contourf(cldfra_df.index, cldfra_df.columns, cldfra_df.T.values, [-1, 0, 1])\n",
    "axs[0].set_ylabel('Height (m)')\n",
    "axs[0].set_title('Cloud Fraction (WRF)\\nUnmodified')\n",
    "axs[0].xaxis.set_major_formatter(myFmt)\n",
    "\n",
    "\n",
    "heatmap = axs[1].contourf(cldfra_df_mod.index, cldfra_df_mod.columns, cldfra_df_mod.T.values, [-1, 0, 1])\n",
    "axs[1].set_ylabel('Height (m)')\n",
    "axs[1].set_title('Modified')\n",
    "axs[1].xaxis.set_major_formatter(myFmt)\n",
    "\n",
    "plt.tight_layout()\n",
    "fig.subplots_adjust(right=0.8)\n",
    "cbar_ax = fig.add_axes([0.85, 0.15, 0.015, 0.7])\n",
    "cbar = fig.colorbar(heatmap,ticks = [-0.5, 0.5], orientation = 'vertical', cax=cbar_ax)\n",
    "cbar.ax.set_yticklabels(['No Cloud', 'Cloud'], rotation = 90)\n",
    "cbar.ax.tick_params(size=0)\n",
    "\n",
    "\n",
    "plt.show()\n"
   ]
  },
  {
   "cell_type": "code",
   "execution_count": null,
   "metadata": {
    "tags": [
     "hide-input"
    ]
   },
   "outputs": [],
   "source": [
    "fns = ['/Volumes/seagate_desktop/data/MPL/Robert_MPLData/FinalNICELidarData/NICE_MPLDataFinal20150522.cdf',\n",
    "       '/Volumes/seagate_desktop/data/MPL/Robert_MPLData/FinalNICELidarData/NICE_MPLDataFinal20150523.cdf',\n",
    "       '/Volumes/seagate_desktop/data/MPL/Robert_MPLData/FinalNICELidarData/NICE_MPLDataFinal20150524.cdf']\n",
    "\n",
    "measured_cloudmask_all = pd.DataFrame()\n",
    "\n",
    "for fn in fns:\n",
    "    rbt_cldmask = xr.open_dataset(fn)\n",
    "    # Time is in UTC time stamp in fractional hours\n",
    "    Time = rbt_cldmask.variables['DataTime'].values\n",
    "    # Fix time to be a timestamp - Currently in hours\n",
    "    yy = 2015\n",
    "    mm = int(fn[-8:-6])\n",
    "    dd = int(fn[-6:-4])\n",
    "    date = [datetime(yy,mm,dd) + timedelta(seconds=hr*3600) for hr in Time[~np.isnan(Time)]]\n",
    "    measured_cloudmask = pd.DataFrame(rbt_cldmask['PhaseMask'][~np.isnan(Time)].values, index = date, columns = rbt_cldmask['Range'])\n",
    "    measured_cloudmask_all = pd.concat([measured_cloudmask_all, measured_cloudmask])\n",
    "\n",
    "fig, ax = plt.subplots(figsize=(10,4))\n",
    "\n",
    "plt.grid()\n",
    "heatmap = plt.contourf(measured_cloudmask_all.index,\n",
    "                       measured_cloudmask_all.columns, \n",
    "                       measured_cloudmask_all.T.values, \n",
    "                       [0, 1, 2])\n",
    "# nan - no information\n",
    "# 1 - cloud liquid\n",
    "# 2 - cloud ice\n",
    "\n",
    "plt.title('Cloud Mask\\nMeasured by MPL')\n",
    "plt.ylabel('Height (m)')\n",
    "cbar = fig.colorbar(heatmap, label = 'Phase', ticks = [0.5, 1.5], orientation = 'vertical')\n",
    "cbar.ax.set_yticklabels(['Ice', 'Water'], rotation = 90)\n",
    "cbar.ax.tick_params(size=0)\n",
    "plt.gca().xaxis.set_major_formatter(myFmt)\n",
    "\n",
    "plt.tight_layout()\n",
    "plt.show()"
   ]
  },
  {
   "cell_type": "markdown",
   "metadata": {},
   "source": [
    "## Sensible and Latent Heat Flux"
   ]
  },
  {
   "cell_type": "code",
   "execution_count": null,
   "metadata": {
    "tags": [
     "hide-input"
    ]
   },
   "outputs": [],
   "source": [
    "plt.figure(figsize = (10,7))\n",
    "plt.subplot(211)\n",
    "plt.plot(sh_df, 'o', alpha = 0.75)\n",
    "plt.plot(sh_df_mod, 'o', alpha = 0.75)\n",
    "plt.plot(M_sen[sdate:edate], 'o', alpha = 0.75, color = 'k')\n",
    "plt.hlines(0, xmin = sdate, xmax = '2015-05-25', linestyle = '--', color = 'k')\n",
    "plt.ylabel('Flux $(W/m^{2})$')\n",
    "plt.title('Sensible Heat Flux')\n",
    "plt.grid()\n",
    "plt.legend(['Idealized WRF, Pre-Modification', 'Idealized WRF, Modified', 'Measurements'])\n",
    "#plt.ylim(-10,20)\n",
    "plt.xlim(sdate,'2015-05-25')\n",
    "plt.gca().xaxis.set_major_formatter(myFmt)\n",
    "\n",
    "plt.subplot(212)\n",
    "plt.plot(lh_df, 'o', alpha = 0.75)\n",
    "plt.plot(lh_df_mod, 'o', alpha = 0.75)\n",
    "plt.plot(M_lat[sdate:edate], 'o', alpha = 0.75, color = 'k')\n",
    "plt.hlines(0, xmin = sdate, xmax = '2015-05-25', linestyle = '--', color = 'k')\n",
    "plt.ylabel('Flux $(W/m^{2})$')\n",
    "plt.title('Latent Heat Flux')\n",
    "plt.grid()\n",
    "plt.legend(['Idealized WRF, Pre-Modification', 'Idealized WRF, Modified', 'Measurements'])\n",
    "plt.xlim(sdate,'2015-05-25')\n",
    "plt.gca().xaxis.set_major_formatter(myFmt)\n",
    "plt.tight_layout()\n",
    "plt.show()"
   ]
  },
  {
   "cell_type": "markdown",
   "metadata": {},
   "source": [
    "## Longwave and Shortwave Radiation"
   ]
  },
  {
   "cell_type": "code",
   "execution_count": null,
   "metadata": {
    "tags": [
     "hide-input"
    ]
   },
   "outputs": [],
   "source": [
    "plt.figure(figsize = (15,7))\n",
    "plt.subplot(221)\n",
    "plt.plot(lwdnb_df, 'o', alpha = 0.75)\n",
    "plt.plot(lwdnb_df_mod, 'o', alpha = 0.75)\n",
    "plt.plot(M_downlw[sdate:edate], 'o', alpha = 0.75, color = 'k')\n",
    "plt.ylabel('Flux $(W/m^{2})$')\n",
    "plt.title('Downwelling Longwave Radiation')\n",
    "plt.grid()\n",
    "plt.legend(['Idealized WRF, Pre-Modification', 'Idealized WRF, Modified', 'Measurements'])\n",
    "plt.ylim(150,300)\n",
    "plt.xlim(sdate,'2015-05-25')\n",
    "plt.gca().xaxis.set_major_formatter(myFmt)\n",
    "\n",
    "plt.subplot(223)\n",
    "plt.plot(lwupb_df, 'o', alpha = 0.75)\n",
    "plt.plot(lwupb_df_mod, 'o', alpha = 0.75)\n",
    "plt.plot(M_uplw[sdate:edate], 'o', alpha = 0.75, color = 'k')\n",
    "plt.ylabel('Flux $(W/m^{2})$')\n",
    "plt.title('Upwelling Longwave Radiation')\n",
    "plt.grid()\n",
    "plt.ylim(240,300)\n",
    "plt.legend(['Idealized WRF, Pre-Modification', 'Idealized WRF, Modified', 'Measurements'])\n",
    "plt.xlim(sdate,'2015-05-25')\n",
    "plt.gca().xaxis.set_major_formatter(myFmt)\n",
    "\n",
    "plt.subplot(222)\n",
    "plt.plot(swdnb_df, 'o', alpha = 0.75)\n",
    "plt.plot(swdnb_df_mod, 'o', alpha = 0.75)\n",
    "plt.plot(M_downsw[sdate:edate], 'o', alpha = 0.75, color = 'k')\n",
    "plt.ylabel('Flux $(W/m^{2})$')\n",
    "plt.title('Downwelling Shortwave Radiation')\n",
    "plt.grid()\n",
    "plt.ylim(50, 600)\n",
    "plt.legend(['Idealized WRF, Pre-Modification', 'Idealized WRF, Modified', 'Measurements'])\n",
    "plt.xlim(sdate,'2015-05-25')\n",
    "plt.gca().xaxis.set_major_formatter(myFmt)\n",
    "\n",
    "plt.subplot(224)\n",
    "plt.plot(swupb_df, 'o', alpha = 0.75)\n",
    "plt.plot(swupb_df_mod, 'o', alpha = 0.75)\n",
    "plt.plot(M_upsw[sdate:edate], 'o', alpha = 0.75, color = 'k')\n",
    "plt.ylabel('Flux $(W/m^{2})$')\n",
    "plt.grid()\n",
    "plt.ylim(50, 500)\n",
    "plt.legend(['Idealized WRF, Pre-Modification', 'Idealized WRF, Modified', 'Measurements'])\n",
    "plt.xlim(sdate,'2015-05-25')\n",
    "plt.gca().xaxis.set_major_formatter(myFmt)\n",
    "plt.tight_layout()\n",
    "plt.show()"
   ]
  },
  {
   "cell_type": "markdown",
   "metadata": {},
   "source": [
    "## Summary Table\n",
    "Red highlighting indicates the lowest correlation of that variable, green indicates the highest."
   ]
  },
  {
   "cell_type": "code",
   "execution_count": null,
   "metadata": {
    "tags": [
     "hide-input"
    ]
   },
   "outputs": [],
   "source": [
    "lwdns = M_downlw[sdate:edate]\n",
    "lwdns.columns = ['measured']\n",
    "lwdns['unmodified'] = lwdnb_df[0]\n",
    "lwdns['modified'] = lwdnb_df_mod[0]\n",
    "\n",
    "lwups = M_uplw[sdate:edate]\n",
    "lwups.columns = ['measured']\n",
    "lwups['unmodified'] = lwupb_df[0]\n",
    "lwups['modified'] = lwupb_df_mod[0]\n",
    "\n",
    "swdns = M_downsw[sdate:edate]\n",
    "swdns.columns = ['measured']\n",
    "swdns['unmodified'] = swdnb_df[0]\n",
    "swdns['modified'] = swdnb_df_mod[0]\n",
    "\n",
    "swups = M_upsw[sdate:edate]\n",
    "swups.columns = ['measured']\n",
    "swups['unmodified'] = swupb_df[0]\n",
    "swups['modified'] = swupb_df_mod[0]\n",
    "\n",
    "lhs = M_lat[sdate:edate]\n",
    "lhs.columns = ['measured']\n",
    "lhs['unmodified'] = lh_df[0]\n",
    "lhs['modified'] = lh_df_mod[0]\n",
    "\n",
    "shs = M_sen[sdate:edate]\n",
    "shs.columns = ['measured']\n",
    "shs['unmodified'] = sh_df[0]\n",
    "shs['modified'] = sh_df_mod[0]"
   ]
  },
  {
   "cell_type": "code",
   "execution_count": null,
   "metadata": {
    "tags": [
     "hide-input"
    ]
   },
   "outputs": [],
   "source": [
    "correlation_coefficients = pd.DataFrame([lhs.corr()['measured'].values, \n",
    "                                         shs.corr()['measured'].values,\n",
    "                                         lwdns.corr()['measured'].values,\n",
    "                                         lwups.corr()['measured'].values,\n",
    "                                         swdns.corr()['measured'].values,\n",
    "                                         swups.corr()['measured'].values], \n",
    "                                         columns = lhs.corr().columns,\n",
    "                                         index = ['Latent', 'Sensible', 'Downwelling Longwave', 'Upwelling Longwave', 'Downwelling Shortwave', 'Upwelling Shortwave']).T\n",
    "r_squared = correlation_coefficients ** 2\n",
    "r_squared[1:].style.highlight_max(color = 'lightgreen', axis = 0).highlight_min(color = 'pink', axis = 0)"
   ]
  },
  {
   "cell_type": "markdown",
   "metadata": {},
   "source": [
    "## Statistics and Summary"
   ]
  },
  {
   "cell_type": "code",
   "execution_count": null,
   "metadata": {},
   "outputs": [],
   "source": []
  }
 ],
 "metadata": {
  "kernelspec": {
   "display_name": "Python 3",
   "language": "python",
   "name": "python3"
  },
  "language_info": {
   "codemirror_mode": {
    "name": "ipython",
    "version": 3
   },
   "file_extension": ".py",
   "mimetype": "text/x-python",
   "name": "python",
   "nbconvert_exporter": "python",
   "pygments_lexer": "ipython3",
   "version": "3.8.5"
  }
 },
 "nbformat": 4,
 "nbformat_minor": 4
}
